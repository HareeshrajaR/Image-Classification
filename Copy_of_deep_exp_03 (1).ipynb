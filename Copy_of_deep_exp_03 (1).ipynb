{
  "nbformat": 4,
  "nbformat_minor": 0,
  "metadata": {
    "colab": {
      "provenance": []
    },
    "kernelspec": {
      "name": "python3",
      "display_name": "Python 3"
    },
    "language_info": {
      "name": "python"
    }
  },
  "cells": [
    {
      "cell_type": "code",
      "execution_count": 1,
      "metadata": {
        "id": "VisGNfXC752O"
      },
      "outputs": [],
      "source": [
        "import torch\n",
        "import torch.nn as nn\n",
        "import torch.optim as optim\n",
        "import torchvision\n",
        "import torchvision.transforms as transforms\n",
        "from torch.utils.data import DataLoader\n",
        "import matplotlib.pyplot as plt\n",
        "import numpy as np\n",
        "from sklearn.metrics import confusion_matrix, classification_report\n",
        "import seaborn as sns"
      ]
    },
    {
      "cell_type": "code",
      "source": [
        "transform = transforms.Compose([\n",
        "    transforms.ToTensor(),          # Convert images to tensors\n",
        "    transforms.Normalize((0.5,), (0.5,))  # Normalize images\n",
        "])"
      ],
      "metadata": {
        "id": "kQHfdrP28Vbd"
      },
      "execution_count": 2,
      "outputs": []
    },
    {
      "cell_type": "code",
      "source": [
        "train_dataset = torchvision.datasets.FashionMNIST(root=\"./data\", train=True, transform=transform, download=True)\n",
        "test_dataset = torchvision.datasets.FashionMNIST(root=\"./data\", train=False, transform=transform, download=True)\n"
      ],
      "metadata": {
        "colab": {
          "base_uri": "https://localhost:8080/"
        },
        "id": "6UlUk2Ut8eNd",
        "outputId": "a797d9a1-ccab-4122-ca77-b9fe41edaee5"
      },
      "execution_count": 3,
      "outputs": [
        {
          "output_type": "stream",
          "name": "stderr",
          "text": [
            "100%|██████████| 26.4M/26.4M [00:01<00:00, 17.3MB/s]\n",
            "100%|██████████| 29.5k/29.5k [00:00<00:00, 270kB/s]\n",
            "100%|██████████| 4.42M/4.42M [00:00<00:00, 4.52MB/s]\n",
            "100%|██████████| 5.15k/5.15k [00:00<00:00, 15.5MB/s]\n"
          ]
        }
      ]
    },
    {
      "cell_type": "code",
      "source": [
        "image, label = train_dataset[0]\n",
        "print(image.shape)\n",
        "print(len(train_dataset))"
      ],
      "metadata": {
        "colab": {
          "base_uri": "https://localhost:8080/"
        },
        "id": "FW0Zkh148j3r",
        "outputId": "d7f4d040-5010-4015-995e-7e2b1160182a"
      },
      "execution_count": 4,
      "outputs": [
        {
          "output_type": "stream",
          "name": "stdout",
          "text": [
            "torch.Size([1, 28, 28])\n",
            "60000\n"
          ]
        }
      ]
    },
    {
      "cell_type": "code",
      "source": [
        "image, label = test_dataset[0]\n",
        "print(image.shape)\n",
        "print(len(test_dataset))"
      ],
      "metadata": {
        "colab": {
          "base_uri": "https://localhost:8080/"
        },
        "id": "R_pfqZAC9EHz",
        "outputId": "dfd18e53-8aca-458b-d406-c130e30656c1"
      },
      "execution_count": 5,
      "outputs": [
        {
          "output_type": "stream",
          "name": "stdout",
          "text": [
            "torch.Size([1, 28, 28])\n",
            "10000\n"
          ]
        }
      ]
    },
    {
      "cell_type": "code",
      "source": [
        "train_loader = DataLoader(train_dataset, batch_size=32, shuffle=True)\n",
        "test_loader = DataLoader(test_dataset, batch_size=32, shuffle=False)\n"
      ],
      "metadata": {
        "id": "TTugaZm09ol3"
      },
      "execution_count": 6,
      "outputs": []
    },
    {
      "cell_type": "code",
      "source": [
        "class CNNClassifier (nn.Module):\n",
        "  def __init__(self):\n",
        "    super (CNNClassifier, self).__init__()\n",
        "    self.conv1 = nn.Conv2d(in_channels=1, out_channels=32, kernel_size=3, padding=1)\n",
        "    self.conv2 = nn.Conv2d(in_channels=32, out_channels=64, kernel_size=3, padding=1)\n",
        "    self.conv3 = nn.Conv2d(in_channels=64, out_channels=128, kernel_size=3, padding=1)\n",
        "    self.pool = nn.MaxPool2d(kernel_size=2, stride=2)\n",
        "    self.fc1 = nn.Linear(128 * 3 * 3, 128)\n",
        "    self.fc2 = nn.Linear (128, 64)\n",
        "    self.fc3 = nn.Linear (64, 10)\n",
        "  def forward(self, x):\n",
        "    x = self.pool(torch.relu(self.conv1(x)))\n",
        "    x = self.pool(torch.relu (self.conv2(x)))\n",
        "    x = self.pool(torch.relu(self.conv3(x)))\n",
        "    x = x.view(x.size(0), -1) # Flatten the image\n",
        "    x = torch.relu(self.fc1(x))\n",
        "    x = torch.relu(self.fc2(x))\n",
        "    x = self.fc3(x)\n",
        "    return x"
      ],
      "metadata": {
        "id": "lJL6Lcj_-E0B"
      },
      "execution_count": 8,
      "outputs": []
    },
    {
      "cell_type": "code",
      "source": [
        "from torchsummary import summary\n",
        "model = CNNClassifier()\n",
        "if torch.cuda.is_available():\n",
        "    device = torch.device(\"cuda\")\n",
        "    model.to(device)\n",
        "print('Name: HAREESH R')\n",
        "print('Register Number: 212223230068')\n",
        "summary(model, input_size=(1, 28, 28))"
      ],
      "metadata": {
        "colab": {
          "base_uri": "https://localhost:8080/"
        },
        "id": "OcXPTGYSDpiP",
        "outputId": "119e85d1-3a93-41e1-a3be-ac022f451778"
      },
      "execution_count": 9,
      "outputs": [
        {
          "output_type": "stream",
          "name": "stdout",
          "text": [
            "Name: HAREESH R\n",
            "Register Number: 212223230068\n",
            "----------------------------------------------------------------\n",
            "        Layer (type)               Output Shape         Param #\n",
            "================================================================\n",
            "            Conv2d-1           [-1, 32, 28, 28]             320\n",
            "         MaxPool2d-2           [-1, 32, 14, 14]               0\n",
            "            Conv2d-3           [-1, 64, 14, 14]          18,496\n",
            "         MaxPool2d-4             [-1, 64, 7, 7]               0\n",
            "            Conv2d-5            [-1, 128, 7, 7]          73,856\n",
            "         MaxPool2d-6            [-1, 128, 3, 3]               0\n",
            "            Linear-7                  [-1, 128]         147,584\n",
            "            Linear-8                   [-1, 64]           8,256\n",
            "            Linear-9                   [-1, 10]             650\n",
            "================================================================\n",
            "Total params: 249,162\n",
            "Trainable params: 249,162\n",
            "Non-trainable params: 0\n",
            "----------------------------------------------------------------\n",
            "Input size (MB): 0.00\n",
            "Forward/backward pass size (MB): 0.42\n",
            "Params size (MB): 0.95\n",
            "Estimated Total Size (MB): 1.37\n",
            "----------------------------------------------------------------\n"
          ]
        }
      ]
    },
    {
      "cell_type": "code",
      "source": [
        "# Initialize model, loss function, and optimizer\n",
        "model = CNNClassifier()\n",
        "criterion = nn.CrossEntropyLoss()\n",
        "optimizer = optim.Adam(model.parameters(), lr=0.001)\n",
        "\n"
      ],
      "metadata": {
        "id": "7fw58nzNDxa8"
      },
      "execution_count": 10,
      "outputs": []
    },
    {
      "cell_type": "code",
      "source": [
        "def train_model(model, train_loader, num_epochs=3):\n",
        "    # Move model to GPU if available, inside the function\n",
        "    device = torch.device(\"cuda\" if torch.cuda.is_available() else \"cpu\")\n",
        "    model.to(device)\n",
        "\n",
        "    for epoch in range(num_epochs):\n",
        "        running_loss = 0.0\n",
        "        for images, labels in train_loader:\n",
        "            # Move images and labels to the same device as the model\n",
        "            images = images.to(device)\n",
        "            labels = labels.to(device)\n",
        "\n",
        "            # Forward pass\n",
        "            outputs = model(images)\n",
        "            loss = criterion(outputs, labels)\n",
        "\n",
        "            # Backward and optimize\n",
        "            optimizer.zero_grad()\n",
        "            loss.backward()\n",
        "            optimizer.step()\n",
        "\n",
        "            running_loss += loss.item()\n",
        "\n",
        "        print('Name: HAREESH R')\n",
        "        print('Register Number: 212223230068')\n",
        "        print(f'Epoch [{epoch+1}/{num_epochs}], Loss: {running_loss/len(train_loader):.4f}')"
      ],
      "metadata": {
        "id": "nb65AHU0D2MJ"
      },
      "execution_count": 11,
      "outputs": []
    },
    {
      "cell_type": "code",
      "source": [
        "train_model(model, train_loader)"
      ],
      "metadata": {
        "colab": {
          "base_uri": "https://localhost:8080/"
        },
        "id": "mwK_6W1NEJrT",
        "outputId": "e11ab778-c813-4f7c-de44-f00a8db8c4c7"
      },
      "execution_count": 12,
      "outputs": [
        {
          "output_type": "stream",
          "name": "stdout",
          "text": [
            "Name: HAREESH R\n",
            "Register Number: 212223230068\n",
            "Epoch [1/3], Loss: 0.4614\n",
            "Name: HAREESH R\n",
            "Register Number: 212223230068\n",
            "Epoch [2/3], Loss: 0.2833\n",
            "Name: HAREESH R\n",
            "Register Number: 212223230068\n",
            "Epoch [3/3], Loss: 0.2385\n"
          ]
        }
      ]
    },
    {
      "cell_type": "code",
      "source": [
        "class CNNClassifier(nn.Module):\n",
        "  def __init__(self):\n",
        "    super(CNNClassifier, self).__init__()\n",
        "    self.conv1 = nn.Conv2d(in_channels=1, out_channels=32, kernel_size=3, padding=1)\n",
        "    self.conv2 = nn.Conv2d(in_channels=32, out_channels=64, kernel_size=3, padding=1)\n",
        "    self.conv3 = nn.Conv2d(in_channels=64, out_channels=128, kernel_size=3, padding=1)\n",
        "    self.pool = nn.MaxPool2d(kernel_size=2, stride=2)\n",
        "    self.fc1 = nn.Linear(128 * 3 * 3, 128) # Adjusted input features for fc1\n",
        "    self.fc2 = nn.Linear(128, 64)\n",
        "    self.fc3 = nn.Linear(64, 10)\n",
        "\n",
        "  def forward(self, x):\n",
        "    x = self.pool(torch.relu(self.conv1(x)))\n",
        "    x = self.pool(torch.relu(self.conv2(x)))\n",
        "    x = self.pool(torch.relu(self.conv3(x)))\n",
        "    x = x.view(x.size(0), -1) # Flatten the image\n",
        "    x = torch.relu(self.fc1(x))\n",
        "    x = torch.relu(self.fc2(x))\n",
        "    x = self.fc3(x)\n",
        "    return x"
      ],
      "metadata": {
        "id": "TZ9D7YM_FanI"
      },
      "execution_count": null,
      "outputs": []
    },
    {
      "cell_type": "code",
      "source": [
        "# Initialize the Model, Loss Function, and Optimizer\n",
        "model =CNNClassifier()\n",
        "criterion =nn.CrossEntropyLoss()\n",
        "optimizer =optim.Adam(model.parameters(),lr=0.001)"
      ],
      "metadata": {
        "id": "_pW3TEABETly"
      },
      "execution_count": null,
      "outputs": []
    },
    {
      "cell_type": "code",
      "source": [
        "# Train the Model\n",
        "def train_model(model, train_loader, num_epochs=3):\n",
        "  for epoch in range(num_epochs):\n",
        "        model.train()\n",
        "        running_loss = 0.0\n",
        "        for images, labels in train_loader:\n",
        "            optimizer.zero_grad()\n",
        "            outputs = model(images)\n",
        "            loss = criterion(outputs, labels)\n",
        "            loss.backward()\n",
        "            optimizer.step()\n",
        "            running_loss += loss.item()\n",
        "\n",
        "        print('Name: HAREESH R')\n",
        "        print('Register Number: 212223230068')\n",
        "        print(f'Epoch [{epoch+1}/{num_epochs}], Loss: {running_loss/len(train_loader):.4f}')\n"
      ],
      "metadata": {
        "id": "6_qihxpOEYz3"
      },
      "execution_count": null,
      "outputs": []
    },
    {
      "cell_type": "code",
      "source": [
        "train_model(model, train_loader)\n"
      ],
      "metadata": {
        "colab": {
          "base_uri": "https://localhost:8080/"
        },
        "id": "qNQajntiEblN",
        "outputId": "2676a93d-7d6d-4f62-fbe5-6fac637fbfee"
      },
      "execution_count": null,
      "outputs": [
        {
          "output_type": "stream",
          "name": "stdout",
          "text": [
            "Name: HAREESH R\n",
            "Register Number: 212223230068\n",
            "Epoch [1/3], Loss: 0.2110\n",
            "Name: HAREESH R\n",
            "Register Number: 212223230068\n",
            "Epoch [2/3], Loss: 0.1877\n",
            "Name: HAREESH R\n",
            "Register Number: 212223230068\n",
            "Epoch [3/3], Loss: 0.1657\n"
          ]
        }
      ]
    },
    {
      "cell_type": "code",
      "source": [
        "def test_model(model, test_loader):\n",
        "    model.eval()\n",
        "    correct = 0\n",
        "    total = 0\n",
        "    all_preds = []\n",
        "    all_labels = []\n",
        "\n",
        "    # Get the device the model is on\n",
        "    device = next(model.parameters()).device\n",
        "\n",
        "    with torch.no_grad():\n",
        "        for images, labels in test_loader:\n",
        "            # Move images and labels to the same device as the model\n",
        "            images = images.to(device)\n",
        "            labels = labels.to(device)\n",
        "\n",
        "            outputs = model(images)\n",
        "            _, predicted = torch.max(outputs, 1)\n",
        "            total += labels.size(0)\n",
        "            correct += (predicted == labels).sum().item()\n",
        "            all_preds.extend(predicted.cpu().numpy())\n",
        "            all_labels.extend(labels.cpu().numpy())\n",
        "\n",
        "    accuracy = correct / total\n",
        "    print('Name: HAREESH R')\n",
        "    print('Register Number: 212223230068')\n",
        "    print(f'Test Accuracy: {accuracy:.4f}')\n",
        "\n",
        "    # Compute confusion matrix\n",
        "    cm = confusion_matrix(all_labels, all_preds)\n",
        "    plt.figure(figsize=(8, 6))\n",
        "    print('Name: HAREESH R')\n",
        "    print('Register Number: 212223230068')\n",
        "    sns.heatmap(cm, annot=True, fmt='d', cmap='Blues', xticklabels=test_dataset.classes, yticklabels=test_dataset.classes)\n",
        "    plt.xlabel('Predicted')\n",
        "    plt.ylabel('Actual')\n",
        "    plt.title('Confusion Matrix')\n",
        "    plt.show()\n",
        "\n",
        "    # Print classification report\n",
        "    print('Name: HAREESH R')\n",
        "    print('Register Number: 212223230068')\n",
        "    print(\"Classification Report:\")\n",
        "    print(classification_report(all_labels, all_preds, target_names=test_dataset.classes))"
      ],
      "metadata": {
        "id": "LoNM0PP2HuG3"
      },
      "execution_count": 14,
      "outputs": []
    },
    {
      "cell_type": "code",
      "source": [
        "test_model(model, test_loader)"
      ],
      "metadata": {
        "colab": {
          "base_uri": "https://localhost:8080/",
          "height": 1000
        },
        "id": "tli_MOLiIDcQ",
        "outputId": "0285fd42-a44e-471d-ae7f-4c1600ac8d79"
      },
      "execution_count": 15,
      "outputs": [
        {
          "output_type": "stream",
          "name": "stdout",
          "text": [
            "Name: HAREESH R\n",
            "Register Number: 212223230068\n",
            "Test Accuracy: 0.9006\n",
            "Name: HAREESH R\n",
            "Register Number: 212223230068\n"
          ]
        },
        {
          "output_type": "display_data",
          "data": {
            "text/plain": [
              "<Figure size 800x600 with 2 Axes>"
            ],
            "image/png": "[encoded data removed]"
          },
          "metadata": {}
        },
        {
          "output_type": "stream",
          "name": "stdout",
          "text": [
            "Name: HAREESH R\n",
            "Register Number: 212223230068\n",
            "Classification Report:\n",
            "              precision    recall  f1-score   support\n",
            "\n",
            " T-shirt/top       0.78      0.92      0.84      1000\n",
            "     Trouser       1.00      0.97      0.98      1000\n",
            "    Pullover       0.84      0.89      0.86      1000\n",
            "       Dress       0.87      0.93      0.90      1000\n",
            "        Coat       0.89      0.79      0.84      1000\n",
            "      Sandal       0.98      0.98      0.98      1000\n",
            "       Shirt       0.78      0.63      0.70      1000\n",
            "     Sneaker       0.93      0.98      0.96      1000\n",
            "         Bag       0.96      0.98      0.97      1000\n",
            "  Ankle boot       0.98      0.95      0.96      1000\n",
            "\n",
            "    accuracy                           0.90     10000\n",
            "   macro avg       0.90      0.90      0.90     10000\n",
            "weighted avg       0.90      0.90      0.90     10000\n",
            "\n"
          ]
        }
      ]
    },
    {
      "cell_type": "code",
      "source": [
        "import matplotlib.pyplot as plt\n",
        "def predict_image(model, image_index, dataset):\n",
        "    model.eval()\n",
        "    image, label = dataset[image_index]\n",
        "\n",
        "    # Get the device the model is on\n",
        "    device = next(model.parameters()).device\n",
        "\n",
        "    # Move the image to the same device as the model\n",
        "    image = image.to(device)\n",
        "\n",
        "    with torch.no_grad():\n",
        "        output = model(image.unsqueeze(0).to(device))  # Add batch dimension and move to device\n",
        "        _, predicted = torch.max(output, 1)\n",
        "    class_names = dataset.classes\n",
        "\n",
        "    # Display the image\n",
        "    print('Name: HAREESH R')\n",
        "    print('Register Number: 212223230068')\n",
        "    plt.imshow(image.cpu().squeeze(), cmap=\"gray\") # Move back to CPU for display\n",
        "    plt.title(f'Actual: {class_names[label]}\\nPredicted: {class_names[predicted.item()]}')\n",
        "    plt.axis(\"off\")\n",
        "    plt.show()\n",
        "    print(f'Actual: {class_names[label]}, Predicted: {class_names[predicted.item()]}')"
      ],
      "metadata": {
        "id": "TRCRl9qDIPhV"
      },
      "execution_count": 16,
      "outputs": []
    },
    {
      "cell_type": "code",
      "source": [
        "predict_image(model, image_index=85, dataset=test_dataset)"
      ],
      "metadata": {
        "colab": {
          "base_uri": "https://localhost:8080/",
          "height": 504
        },
        "id": "XoKIfIuXIkYD",
        "outputId": "621add91-546a-413f-8dbe-165a52b75fba"
      },
      "execution_count": 17,
      "outputs": [
        {
          "output_type": "stream",
          "name": "stdout",
          "text": [
            "Name: HAREESH R\n",
            "Register Number: 212223230068\n"
          ]
        },
        {
          "output_type": "display_data",
          "data": {
            "text/plain": [
              "<Figure size 640x480 with 1 Axes>"
            ],
            "image/png": "[encoded data removed]"
          },
          "metadata": {}
        },
        {
          "output_type": "stream",
          "name": "stdout",
          "text": [
            "Actual: T-shirt/top, Predicted: T-shirt/top\n"
          ]
        }
      ]
    }
  ]
}